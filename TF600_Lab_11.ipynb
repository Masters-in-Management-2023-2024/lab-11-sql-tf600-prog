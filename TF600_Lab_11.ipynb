{
  "nbformat": 4,
  "nbformat_minor": 0,
  "metadata": {
    "colab": {
      "provenance": []
    },
    "kernelspec": {
      "name": "python3",
      "display_name": "Python 3"
    },
    "language_info": {
      "name": "python"
    }
  },
  "cells": [
    {
      "cell_type": "code",
      "execution_count": 7,
      "metadata": {
        "colab": {
          "base_uri": "https://localhost:8080/"
        },
        "id": "zCJsd2UK077-",
        "outputId": "7d4dd509-a6e5-4ba9-9b6c-1053dfd3b6e2"
      },
      "outputs": [
        {
          "output_type": "stream",
          "name": "stdout",
          "text": [
            "Setup complete! Tables available:\n",
            "shape: (5, 1)\n",
            "┌──────────┐\n",
            "│ name     │\n",
            "│ ---      │\n",
            "│ str      │\n",
            "╞══════════╡\n",
            "│ airlines │\n",
            "│ airports │\n",
            "│ flights  │\n",
            "│ planes   │\n",
            "│ weather  │\n",
            "└──────────┘\n"
          ]
        }
      ],
      "source": [
        "# Setup - Run this cell first\n",
        "import polars as pl\n",
        "\n",
        "# Load data\n",
        "airlines = pl.read_csv('https://raw.githubusercontent.com/philhetzel/opan5510-class11/refs/heads/main/data/nyc_airlines.csv')\n",
        "airports = pl.read_csv('https://raw.githubusercontent.com/philhetzel/opan5510-class11/refs/heads/main/data/nyc_airports.csv')\n",
        "flights = pl.read_csv('https://raw.githubusercontent.com/philhetzel/opan5510-class11/refs/heads/main/data/nyc_flights.csv', null_values='NA')\n",
        "planes = pl.read_csv('https://raw.githubusercontent.com/philhetzel/opan5510-class11/refs/heads/main/data/nyc_planes.csv', null_values='NA')\n",
        "weather = pl.read_csv('https://raw.githubusercontent.com/philhetzel/opan5510-class11/refs/heads/main/data/nyc_weather.csv', null_values='NA', schema_overrides={'precip': pl.Float64, 'visib': pl.Float64})\n",
        "\n",
        "\n",
        "flights = flights.with_columns(pl.col(\"time_hour\").str.strptime(pl.Datetime))\n",
        "weather = weather.with_columns(pl.col(\"time_hour\").str.strptime(pl.Datetime))\n",
        "\n",
        "\n",
        "# Create SQL context\n",
        "ctx = pl.SQLContext(\n",
        "    airlines=airlines,\n",
        "    airports=airports,\n",
        "    flights=flights,\n",
        "    planes=planes,\n",
        "    weather=weather,\n",
        "    eager=True\n",
        ")\n",
        "\n",
        "print(\"Setup complete! Tables available:\")\n",
        "print(ctx.execute(\"SHOW TABLES\"))"
      ]
    },
    {
      "cell_type": "code",
      "source": [
        "#Q1.1\n",
        "result = ctx.execute(\"\"\"\n",
        "    SELECT DISTINCT carrier\n",
        "    FROM airlines\n",
        "    ORDER BY carrier\n",
        "\"\"\")\n",
        "\n",
        "print(result)\n"
      ],
      "metadata": {
        "colab": {
          "base_uri": "https://localhost:8080/"
        },
        "id": "c0tLScuW2WDj",
        "outputId": "bfc6e0d3-a622-4fb2-daee-67b8305f45bb"
      },
      "execution_count": 15,
      "outputs": [
        {
          "output_type": "stream",
          "name": "stdout",
          "text": [
            "shape: (16, 1)\n",
            "┌─────────┐\n",
            "│ carrier │\n",
            "│ ---     │\n",
            "│ str     │\n",
            "╞═════════╡\n",
            "│ 9E      │\n",
            "│ AA      │\n",
            "│ AS      │\n",
            "│ B6      │\n",
            "│ DL      │\n",
            "│ …       │\n",
            "│ UA      │\n",
            "│ US      │\n",
            "│ VX      │\n",
            "│ WN      │\n",
            "│ YV      │\n",
            "└─────────┘\n"
          ]
        }
      ]
    },
    {
      "cell_type": "code",
      "source": [
        "#Q1.2\n",
        "result = ctx.execute(\"\"\"\n",
        "    SELECT\n",
        "        dest,\n",
        "        COUNT(*) AS num_flights\n",
        "    FROM flights\n",
        "    GROUP BY dest\n",
        "    ORDER BY num_flights DESC\n",
        "    LIMIT 10\n",
        "\"\"\")\n",
        "\n",
        "print(result)\n"
      ],
      "metadata": {
        "colab": {
          "base_uri": "https://localhost:8080/"
        },
        "id": "EiPhw9s02bdW",
        "outputId": "92069808-4c8b-4153-a872-17bd7079bd6f"
      },
      "execution_count": 16,
      "outputs": [
        {
          "output_type": "stream",
          "name": "stdout",
          "text": [
            "shape: (10, 2)\n",
            "┌──────┬─────────────┐\n",
            "│ dest ┆ num_flights │\n",
            "│ ---  ┆ ---         │\n",
            "│ str  ┆ u32         │\n",
            "╞══════╪═════════════╡\n",
            "│ ORD  ┆ 17283       │\n",
            "│ ATL  ┆ 17215       │\n",
            "│ LAX  ┆ 16174       │\n",
            "│ BOS  ┆ 15508       │\n",
            "│ MCO  ┆ 14082       │\n",
            "│ CLT  ┆ 14064       │\n",
            "│ SFO  ┆ 13331       │\n",
            "│ FLL  ┆ 12055       │\n",
            "│ MIA  ┆ 11728       │\n",
            "│ DCA  ┆ 9705        │\n",
            "└──────┴─────────────┘\n"
          ]
        }
      ]
    },
    {
      "cell_type": "code",
      "source": [
        "#Q1.3\n",
        "result = ctx.execute(\"\"\"\n",
        "    SELECT\n",
        "        year, month, day,\n",
        "        carrier, flight, tailnum,\n",
        "        origin, dest,\n",
        "        dep_time, dep_delay, sched_dep_time,\n",
        "        time_hour\n",
        "    FROM flights\n",
        "    WHERE dep_delay > 120\n",
        "    ORDER BY dep_delay DESC\n",
        "\"\"\")\n",
        "\n",
        "print(result)"
      ],
      "metadata": {
        "colab": {
          "base_uri": "https://localhost:8080/"
        },
        "id": "EV-hiTrU2obj",
        "outputId": "cae2d928-f166-49fd-a02d-60460bb88ca2"
      },
      "execution_count": 19,
      "outputs": [
        {
          "output_type": "stream",
          "name": "stdout",
          "text": [
            "shape: (9_723, 12)\n",
            "┌──────┬───────┬─────┬─────────┬───┬──────────┬───────────┬────────────────┬───────────────────────┐\n",
            "│ year ┆ month ┆ day ┆ carrier ┆ … ┆ dep_time ┆ dep_delay ┆ sched_dep_time ┆ time_hour             │\n",
            "│ ---  ┆ ---   ┆ --- ┆ ---     ┆   ┆ ---      ┆ ---       ┆ ---            ┆ ---                   │\n",
            "│ i64  ┆ i64   ┆ i64 ┆ str     ┆   ┆ i64      ┆ i64       ┆ i64            ┆ datetime[μs, UTC]     │\n",
            "╞══════╪═══════╪═════╪═════════╪═══╪══════════╪═══════════╪════════════════╪═══════════════════════╡\n",
            "│ 2013 ┆ 1     ┆ 9   ┆ HA      ┆ … ┆ 641      ┆ 1301      ┆ 900            ┆ 2013-01-09 14:00:00   │\n",
            "│      ┆       ┆     ┆         ┆   ┆          ┆           ┆                ┆ UTC                   │\n",
            "│ 2013 ┆ 6     ┆ 15  ┆ MQ      ┆ … ┆ 1432     ┆ 1137      ┆ 1935           ┆ 2013-06-15 23:00:00   │\n",
            "│      ┆       ┆     ┆         ┆   ┆          ┆           ┆                ┆ UTC                   │\n",
            "│ 2013 ┆ 1     ┆ 10  ┆ MQ      ┆ … ┆ 1121     ┆ 1126      ┆ 1635           ┆ 2013-01-10 21:00:00   │\n",
            "│      ┆       ┆     ┆         ┆   ┆          ┆           ┆                ┆ UTC                   │\n",
            "│ 2013 ┆ 9     ┆ 20  ┆ AA      ┆ … ┆ 1139     ┆ 1014      ┆ 1845           ┆ 2013-09-20 22:00:00   │\n",
            "│      ┆       ┆     ┆         ┆   ┆          ┆           ┆                ┆ UTC                   │\n",
            "│ 2013 ┆ 7     ┆ 22  ┆ MQ      ┆ … ┆ 845      ┆ 1005      ┆ 1600           ┆ 2013-07-22 20:00:00   │\n",
            "│      ┆       ┆     ┆         ┆   ┆          ┆           ┆                ┆ UTC                   │\n",
            "│ …    ┆ …     ┆ …   ┆ …       ┆ … ┆ …        ┆ …         ┆ …              ┆ …                     │\n",
            "│ 2013 ┆ 9     ┆ 2   ┆ B6      ┆ … ┆ 2302     ┆ 121       ┆ 2101           ┆ 2013-09-03 01:00:00   │\n",
            "│      ┆       ┆     ┆         ┆   ┆          ┆           ┆                ┆ UTC                   │\n",
            "│ 2013 ┆ 9     ┆ 11  ┆ EV      ┆ … ┆ 1850     ┆ 121       ┆ 1649           ┆ 2013-09-11 20:00:00   │\n",
            "│      ┆       ┆     ┆         ┆   ┆          ┆           ┆                ┆ UTC                   │\n",
            "│ 2013 ┆ 9     ┆ 12  ┆ AA      ┆ … ┆ 1700     ┆ 121       ┆ 1459           ┆ 2013-09-12 18:00:00   │\n",
            "│      ┆       ┆     ┆         ┆   ┆          ┆           ┆                ┆ UTC                   │\n",
            "│ 2013 ┆ 9     ┆ 23  ┆ UA      ┆ … ┆ 2251     ┆ 121       ┆ 2050           ┆ 2013-09-24 00:00:00   │\n",
            "│      ┆       ┆     ┆         ┆   ┆          ┆           ┆                ┆ UTC                   │\n",
            "│ 2013 ┆ 9     ┆ 26  ┆ EV      ┆ … ┆ 2330     ┆ 121       ┆ 2129           ┆ 2013-09-27 01:00:00   │\n",
            "│      ┆       ┆     ┆         ┆   ┆          ┆           ┆                ┆ UTC                   │\n",
            "└──────┴───────┴─────┴─────────┴───┴──────────┴───────────┴────────────────┴───────────────────────┘\n"
          ]
        }
      ]
    },
    {
      "cell_type": "code",
      "source": [
        "#Q2.1\n",
        "result = ctx.execute(\"\"\"\n",
        "    SELECT\n",
        "        origin,\n",
        "        AVG(dep_delay) AS avg_dep_delay\n",
        "    FROM flights\n",
        "    WHERE dep_delay IS NOT NULL\n",
        "    GROUP BY origin\n",
        "    ORDER BY avg_dep_delay DESC\n",
        "\"\"\")\n",
        "\n",
        "print(result)"
      ],
      "metadata": {
        "colab": {
          "base_uri": "https://localhost:8080/"
        },
        "id": "Rhh5Y87I27hp",
        "outputId": "93975a67-9685-411e-a86a-b74e9acff20a"
      },
      "execution_count": 20,
      "outputs": [
        {
          "output_type": "stream",
          "name": "stdout",
          "text": [
            "shape: (3, 2)\n",
            "┌────────┬───────────────┐\n",
            "│ origin ┆ avg_dep_delay │\n",
            "│ ---    ┆ ---           │\n",
            "│ str    ┆ f64           │\n",
            "╞════════╪═══════════════╡\n",
            "│ EWR    ┆ 15.107954     │\n",
            "│ JFK    ┆ 12.112159     │\n",
            "│ LGA    ┆ 10.346876     │\n",
            "└────────┴───────────────┘\n"
          ]
        }
      ]
    },
    {
      "cell_type": "code",
      "source": [
        "#Q2.2\n",
        "result = ctx.execute(\"\"\"\n",
        "    SELECT\n",
        "        month,\n",
        "        COUNT(*) AS num_flights\n",
        "    FROM flights\n",
        "    GROUP BY month\n",
        "    ORDER BY num_flights DESC\n",
        "    LIMIT 1\n",
        "\"\"\")\n",
        "\n",
        "print(result)"
      ],
      "metadata": {
        "colab": {
          "base_uri": "https://localhost:8080/"
        },
        "id": "u3pHGM1D3ClN",
        "outputId": "f0a2c016-58d4-4c4e-e461-472a9cb4e2b2"
      },
      "execution_count": 21,
      "outputs": [
        {
          "output_type": "stream",
          "name": "stdout",
          "text": [
            "shape: (1, 2)\n",
            "┌───────┬─────────────┐\n",
            "│ month ┆ num_flights │\n",
            "│ ---   ┆ ---         │\n",
            "│ i64   ┆ u32         │\n",
            "╞═══════╪═════════════╡\n",
            "│ 7     ┆ 29425       │\n",
            "└───────┴─────────────┘\n"
          ]
        }
      ]
    },
    {
      "cell_type": "code",
      "source": [
        "#Q3.1\n",
        "\n",
        "result = ctx.execute(\"\"\"\n",
        "    SELECT\n",
        "        f.carrier,\n",
        "        a.name        AS airline_name,\n",
        "        f.flight,\n",
        "        f.origin,\n",
        "        f.dest\n",
        "    FROM flights AS f\n",
        "    JOIN airlines AS a\n",
        "      ON f.carrier = a.carrier\n",
        "    ORDER BY f.time_hour, f.carrier, f.flight\n",
        "    LIMIT 20\n",
        "\"\"\")\n",
        "\n",
        "print(result)"
      ],
      "metadata": {
        "colab": {
          "base_uri": "https://localhost:8080/"
        },
        "id": "_YfEnhxy3IPs",
        "outputId": "28513d57-4ccb-420b-b26e-a982b8e4eb73"
      },
      "execution_count": 22,
      "outputs": [
        {
          "output_type": "stream",
          "name": "stdout",
          "text": [
            "shape: (20, 5)\n",
            "┌─────────┬────────────────────────┬────────┬────────┬──────┐\n",
            "│ carrier ┆ airline_name           ┆ flight ┆ origin ┆ dest │\n",
            "│ ---     ┆ ---                    ┆ ---    ┆ ---    ┆ ---  │\n",
            "│ str     ┆ str                    ┆ i64    ┆ str    ┆ str  │\n",
            "╞═════════╪════════════════════════╪════════╪════════╪══════╡\n",
            "│ AA      ┆ American Airlines Inc. ┆ 1141   ┆ JFK    ┆ MIA  │\n",
            "│ B6      ┆ JetBlue Airways        ┆ 725    ┆ JFK    ┆ BQN  │\n",
            "│ B6      ┆ JetBlue Airways        ┆ 1806   ┆ JFK    ┆ BOS  │\n",
            "│ UA      ┆ United Air Lines Inc.  ┆ 1545   ┆ EWR    ┆ IAH  │\n",
            "│ UA      ┆ United Air Lines Inc.  ┆ 1696   ┆ EWR    ┆ ORD  │\n",
            "│ …       ┆ …                      ┆ …      ┆ …      ┆ …    │\n",
            "│ B6      ┆ JetBlue Airways        ┆ 71     ┆ JFK    ┆ TPA  │\n",
            "│ B6      ┆ JetBlue Airways        ┆ 79     ┆ JFK    ┆ MCO  │\n",
            "│ B6      ┆ JetBlue Airways        ┆ 102    ┆ JFK    ┆ BUF  │\n",
            "│ B6      ┆ JetBlue Airways        ┆ 117    ┆ JFK    ┆ MSY  │\n",
            "│ B6      ┆ JetBlue Airways        ┆ 125    ┆ JFK    ┆ FLL  │\n",
            "└─────────┴────────────────────────┴────────┴────────┴──────┘\n"
          ]
        }
      ]
    },
    {
      "cell_type": "code",
      "source": [
        "#Q3.2\n",
        "\n",
        "result = ctx.execute(\"\"\"\n",
        "    SELECT\n",
        "        f.carrier,\n",
        "        AVG(2013 - p.year) AS avg_aircraft_age\n",
        "    FROM flights AS f\n",
        "    JOIN planes  AS p\n",
        "      ON f.tailnum = p.tailnum\n",
        "    WHERE p.year IS NOT NULL\n",
        "      AND 2013 - p.year >= 0\n",
        "    GROUP BY f.carrier\n",
        "    ORDER BY avg_aircraft_age DESC\n",
        "\"\"\")\n",
        "\n",
        "print(result)\n"
      ],
      "metadata": {
        "colab": {
          "base_uri": "https://localhost:8080/"
        },
        "id": "xFZGmkCC3Qxh",
        "outputId": "97038185-934f-4fad-e218-5229de5903ee"
      },
      "execution_count": 23,
      "outputs": [
        {
          "output_type": "stream",
          "name": "stdout",
          "text": [
            "shape: (16, 2)\n",
            "┌─────────┬──────────────────┐\n",
            "│ carrier ┆ avg_aircraft_age │\n",
            "│ ---     ┆ ---              │\n",
            "│ str     ┆ f64              │\n",
            "╞═════════╪══════════════════╡\n",
            "│ MQ      ┆ 35.319           │\n",
            "│ AA      ┆ 25.869426        │\n",
            "│ DL      ┆ 16.372169        │\n",
            "│ UA      ┆ 13.207691        │\n",
            "│ FL      ┆ 11.385829        │\n",
            "│ …       ┆ …                │\n",
            "│ B6      ┆ 6.686702         │\n",
            "│ F9      ┆ 4.87874          │\n",
            "│ VX      ┆ 4.473643         │\n",
            "│ AS      ┆ 3.33662          │\n",
            "│ HA      ┆ 1.548387         │\n",
            "└─────────┴──────────────────┘\n"
          ]
        }
      ]
    },
    {
      "cell_type": "code",
      "source": [
        "#Q4.1\n",
        "\n",
        "result = ctx.execute(\"\"\"\n",
        "    SELECT\n",
        "        COALESCE(p.manufacturer, 'Unknown') AS manufacturer,\n",
        "        COALESCE(p.model,        'Unknown') AS model,\n",
        "        COUNT(*) AS num_flights\n",
        "    FROM flights AS f\n",
        "    LEFT JOIN planes AS p\n",
        "      ON f.tailnum = p.tailnum\n",
        "    GROUP BY manufacturer, model\n",
        "    ORDER BY num_flights DESC\n",
        "    LIMIT 10\n",
        "\"\"\")\n",
        "\n",
        "print(result)"
      ],
      "metadata": {
        "colab": {
          "base_uri": "https://localhost:8080/"
        },
        "id": "WKlBiBnG3a_q",
        "outputId": "9c4233f0-daa9-4c89-ccc7-09df591c163e"
      },
      "execution_count": 24,
      "outputs": [
        {
          "output_type": "stream",
          "name": "stdout",
          "text": [
            "shape: (10, 3)\n",
            "┌──────────────────┬─────────────────┬─────────────┐\n",
            "│ manufacturer     ┆ model           ┆ num_flights │\n",
            "│ ---              ┆ ---             ┆ ---         │\n",
            "│ str              ┆ str             ┆ u32         │\n",
            "╞══════════════════╪═════════════════╪═════════════╡\n",
            "│ Unknown          ┆ Unknown         ┆ 52606       │\n",
            "│ AIRBUS           ┆ A320-232        ┆ 31278       │\n",
            "│ EMBRAER          ┆ EMB-145LR       ┆ 28027       │\n",
            "│ EMBRAER          ┆ ERJ 190-100 IGW ┆ 23716       │\n",
            "│ AIRBUS INDUSTRIE ┆ A320-232        ┆ 14553       │\n",
            "│ EMBRAER          ┆ EMB-145XR       ┆ 14051       │\n",
            "│ BOEING           ┆ 737-824         ┆ 13809       │\n",
            "│ BOMBARDIER INC   ┆ CL-600-2D24     ┆ 11807       │\n",
            "│ BOEING           ┆ 737-7H4         ┆ 10389       │\n",
            "│ BOEING           ┆ 757-222         ┆ 9150        │\n",
            "└──────────────────┴─────────────────┴─────────────┘\n"
          ]
        }
      ]
    },
    {
      "cell_type": "code",
      "source": [
        "#Q4.2\n",
        "\n",
        "result = ctx.execute(\"\"\"\n",
        "    WITH route AS (\n",
        "        SELECT\n",
        "            f.origin,\n",
        "            f.dest,\n",
        "            COUNT(*) AS total_flights,\n",
        "            AVG(f.dep_delay) AS avg_dep_delay,\n",
        "            CAST(SUM(CASE WHEN f.dep_delay > 30 THEN 1 ELSE 0 END) AS DOUBLE)\n",
        "              / NULLIF(COUNT(*), 0) AS pct_delay_gt_30\n",
        "        FROM flights AS f\n",
        "        WHERE f.dep_delay IS NOT NULL\n",
        "        GROUP BY f.origin, f.dest\n",
        "    )\n",
        "    SELECT\n",
        "        r.origin,\n",
        "        ao.name AS origin_name,\n",
        "        r.dest,\n",
        "        ad.name AS dest_name,\n",
        "        r.total_flights,\n",
        "        r.avg_dep_delay,\n",
        "        r.pct_delay_gt_30\n",
        "    FROM route AS r\n",
        "    LEFT JOIN airports AS ao\n",
        "      ON r.origin = ao.faa\n",
        "    LEFT JOIN airports AS ad\n",
        "      ON r.dest = ad.faa\n",
        "    ORDER BY r.total_flights DESC\n",
        "    LIMIT 10\n",
        "\"\"\")\n",
        "\n",
        "print(result)"
      ],
      "metadata": {
        "colab": {
          "base_uri": "https://localhost:8080/"
        },
        "id": "P5zXVwd53nJQ",
        "outputId": "cb03881e-57a8-493a-96f0-b3d0e169bbe0"
      },
      "execution_count": 25,
      "outputs": [
        {
          "output_type": "stream",
          "name": "stdout",
          "text": [
            "shape: (10, 7)\n",
            "┌────────┬────────────────┬──────┬────────────────┬───────────────┬───────────────┬────────────────┐\n",
            "│ origin ┆ origin_name    ┆ dest ┆ dest_name      ┆ total_flights ┆ avg_dep_delay ┆ pct_delay_gt_3 │\n",
            "│ ---    ┆ ---            ┆ ---  ┆ ---            ┆ ---           ┆ ---           ┆ 0              │\n",
            "│ str    ┆ str            ┆ str  ┆ str            ┆ u32           ┆ f64           ┆ ---            │\n",
            "│        ┆                ┆      ┆                ┆               ┆               ┆ f64            │\n",
            "╞════════╪════════════════╪══════╪════════════════╪═══════════════╪═══════════════╪════════════════╡\n",
            "│ JFK    ┆ John F Kennedy ┆ LAX  ┆ Los Angeles    ┆ 11196         ┆ 8.522508      ┆ 0.098875       │\n",
            "│        ┆ Intl           ┆      ┆ Intl           ┆               ┆               ┆                │\n",
            "│ LGA    ┆ La Guardia     ┆ ATL  ┆ Hartsfield     ┆ 10082         ┆ 11.448621     ┆ 0.124678       │\n",
            "│        ┆                ┆      ┆ Jackson        ┆               ┆               ┆                │\n",
            "│        ┆                ┆      ┆ Atlanta Int…   ┆               ┆               ┆                │\n",
            "│ LGA    ┆ La Guardia     ┆ ORD  ┆ Chicago Ohare  ┆ 8548          ┆ 10.740758     ┆ 0.138278       │\n",
            "│        ┆                ┆      ┆ Intl           ┆               ┆               ┆                │\n",
            "│ JFK    ┆ John F Kennedy ┆ SFO  ┆ San Francisco  ┆ 8138          ┆ 11.952691     ┆ 0.122143       │\n",
            "│        ┆ Intl           ┆      ┆ Intl           ┆               ┆               ┆                │\n",
            "│ LGA    ┆ La Guardia     ┆ CLT  ┆ Charlotte      ┆ 5969          ┆ 8.965321      ┆ 0.123471       │\n",
            "│        ┆                ┆      ┆ Douglas Intl   ┆               ┆               ┆                │\n",
            "│ EWR    ┆ Newark Liberty ┆ ORD  ┆ Chicago Ohare  ┆ 5851          ┆ 14.644163     ┆ 0.166809       │\n",
            "│        ┆ Intl           ┆      ┆ Intl           ┆               ┆               ┆                │\n",
            "│ JFK    ┆ John F Kennedy ┆ BOS  ┆ General Edward ┆ 5786          ┆ 11.694953     ┆ 0.140339       │\n",
            "│        ┆ Intl           ┆      ┆ Lawrence Logan ┆               ┆               ┆                │\n",
            "│        ┆                ┆      ┆ …              ┆               ┆               ┆                │\n",
            "│ LGA    ┆ La Guardia     ┆ MIA  ┆ Miami Intl     ┆ 5725          ┆ 7.361747      ┆ 0.095546       │\n",
            "│ JFK    ┆ John F Kennedy ┆ MCO  ┆ Orlando Intl   ┆ 5434          ┆ 10.601583     ┆ 0.127898       │\n",
            "│        ┆ Intl           ┆      ┆                ┆               ┆               ┆                │\n",
            "│ EWR    ┆ Newark Liberty ┆ BOS  ┆ General Edward ┆ 5251          ┆ 12.54561      ┆ 0.151209       │\n",
            "│        ┆ Intl           ┆      ┆ Lawrence Logan ┆               ┆               ┆                │\n",
            "│        ┆                ┆      ┆ …              ┆               ┆               ┆                │\n",
            "└────────┴────────────────┴──────┴────────────────┴───────────────┴───────────────┴────────────────┘\n"
          ]
        }
      ]
    },
    {
      "cell_type": "code",
      "source": [
        "#Bonus Question\n",
        "\n",
        "polars_top_dest = (\n",
        "    flights\n",
        "    .group_by(\"dest\")\n",
        "    .agg(pl.len().alias(\"num_flights\"))\n",
        "    .sort(\"num_flights\", descending=True)\n",
        "    .limit(10)\n",
        ")\n",
        "\n",
        "print(polars_top_dest)"
      ],
      "metadata": {
        "colab": {
          "base_uri": "https://localhost:8080/"
        },
        "id": "4WHOVekP3wmL",
        "outputId": "28cd31ea-4607-45b9-a775-b980240e26d7"
      },
      "execution_count": 26,
      "outputs": [
        {
          "output_type": "stream",
          "name": "stdout",
          "text": [
            "shape: (10, 2)\n",
            "┌──────┬─────────────┐\n",
            "│ dest ┆ num_flights │\n",
            "│ ---  ┆ ---         │\n",
            "│ str  ┆ u32         │\n",
            "╞══════╪═════════════╡\n",
            "│ ORD  ┆ 17283       │\n",
            "│ ATL  ┆ 17215       │\n",
            "│ LAX  ┆ 16174       │\n",
            "│ BOS  ┆ 15508       │\n",
            "│ MCO  ┆ 14082       │\n",
            "│ CLT  ┆ 14064       │\n",
            "│ SFO  ┆ 13331       │\n",
            "│ FLL  ┆ 12055       │\n",
            "│ MIA  ┆ 11728       │\n",
            "│ DCA  ┆ 9705        │\n",
            "└──────┴─────────────┘\n"
          ]
        }
      ]
    }
  ]
}